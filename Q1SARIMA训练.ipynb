{
 "cells": [
  {
   "cell_type": "code",
   "execution_count": null,
   "metadata": {},
   "outputs": [],
   "source": [
    "import pandas as pd\n",
    "import matplotlib.pyplot as plt\n",
    "from statsmodels.tsa.statespace.sarimax import SARIMAX\n"
   ]
  },
  {
   "cell_type": "code",
   "execution_count": null,
   "metadata": {},
   "outputs": [],
   "source": [
    "# 读取Excel文件\n",
    "file_path = 'Q1-cleaned-data.xlsx'  # 替换成你的文件路径\n",
    "df = pd.read_excel(file_path)\n",
    "\n",
    "# 查看数据的基本信息\n",
    "print(df.head())\n"
   ]
  },
  {
   "cell_type": "code",
   "execution_count": null,
   "metadata": {},
   "outputs": [],
   "source": [
    "# 假设日期列为 '日期'，需要先将其转换为 datetime 类型，并设置为索引\n",
    "df['日期'] = pd.to_datetime(df['日期'])\n",
    "df.set_index('日期', inplace=True)\n",
    "\n",
    "# 确保数据按照日期排序\n",
    "df.sort_index(inplace=True)\n",
    "\n",
    "# 提取用于预测的字段和特征字段\n",
    "y = df['门诊收入OBS_T01_MZSR68']\n",
    "exog = df[['门诊患者人次数', '药品总收入', '当日病房收入']]\n",
    "\n",
    "# 检查数据的准确性和完整性\n",
    "print(y.head())\n",
    "print(exog.head())\n"
   ]
  },
  {
   "cell_type": "code",
   "execution_count": null,
   "metadata": {},
   "outputs": [],
   "source": [
    "# SARIMA 模型的参数 (p, d, q) x (P, D, Q, s)\n",
    "order = (2, 2, 2)  # 替换成你选择的 SARIMA 模型的参数\n",
    "seasonal_order = (1, 1, 1, 12)  # 替换成你选择的季节性 SARIMA 模型的参数\n",
    "\n",
    "# 创建 SARIMA 模型\n",
    "model = SARIMAX(y, exog=exog, order=order, seasonal_order=seasonal_order)\n",
    "\n",
    "# 拟合模型\n",
    "results = model.fit()\n",
    "\n",
    "# 查看模型的摘要信息\n",
    "print(results.summary())\n"
   ]
  },
  {
   "cell_type": "code",
   "execution_count": 7,
   "metadata": {},
   "outputs": [
    {
     "name": "stdout",
     "output_type": "stream",
     "text": [
      "DatetimeIndex(['2018-09-29', '2018-11-05', '2018-11-23', '2018-11-25',\n",
      "               '2019-01-13', '2019-01-29', '2019-02-01', '2019-02-07',\n",
      "               '2019-03-12', '2019-04-11',\n",
      "               ...\n",
      "               '2023-06-09', '2023-06-18', '2023-06-21', '2023-07-31',\n",
      "               '2023-08-01', '2023-08-14', '2023-09-20', '2023-11-03',\n",
      "               '2023-11-23', '2023-12-18'],\n",
      "              dtype='datetime64[ns]', name='日期', length=114, freq=None)\n",
      "Error: '2023-10-22' is not found in the index of the data.\n",
      "Using '2018-09-29 00:00:00' as the forecast start date.\n"
     ]
    }
   ],
   "source": [
    "# 查看时间序列索引\n",
    "print(df.index)\n",
    "\n",
    "# 确保预测开始日期在索引中\n",
    "if forecast_start not in df.index:\n",
    "    print(f\"Error: '{forecast_start}' is not found in the index of the data.\")\n",
    "    # 可以选择一个合适的存在于索引中的日期作为预测的起始点\n",
    "    forecast_start = df.index[0]  # 选择第一个日期作为预测开始日期或者手动指定一个存在于索引中的日期\n",
    "    print(f\"Using '{forecast_start}' as the forecast start date.\")\n",
    "\n",
    "# 重新设置预测开始日期，确保它是一个时间戳对象\n",
    "forecast_start = pd.to_datetime(forecast_start)\n"
   ]
  },
  {
   "cell_type": "code",
   "execution_count": 12,
   "metadata": {},
   "outputs": [
    {
     "name": "stdout",
     "output_type": "stream",
     "text": [
      "Error: '当日病房收入OBS_T01_MZSR68' is not found in the test dataset.\n"
     ]
    }
   ],
   "source": [
    "import pandas as pd\n",
    "from statsmodels.tsa.statespace.sarimax import SARIMAX\n",
    "\n",
    "# 假设 test_data 是你的测试集 DataFrame\n",
    "# test_data 包含 '门诊患者人次数', '药品总收入', '当日病房收入' 三个字段\n",
    "\n",
    "# 检查 '当日病房收入OBS_T01_MZSR68' 是否在 test_data 中\n",
    "if '当日病房收入OBS_T01_MZSR68' not in test_data.columns:\n",
    "    print(\"Error: '当日病房收入OBS_T01_MZSR68' is not found in the test dataset.\")\n",
    "else:\n",
    "    # 提取预测所需的字段\n",
    "    y = test_data['当日病房收入OBS_T01_MZSR68']\n",
    "    exog = test_data[['门诊患者人次数', '药品总收入', '当日病房收入']]  # 选择预测所需的字段\n",
    "\n",
    "    # 创建 SARIMA 模型\n",
    "    order = (1, 0, 0)\n",
    "    seasonal_order = (0, 1, 1, 12)  # 示例中使用季节性参数为12，根据数据情况调整\n",
    "    model = SARIMAX(y, exog=exog, order=order, seasonal_order=seasonal_order)\n",
    "\n",
    "    # 拟合模型\n",
    "    results = model.fit()\n",
    "\n",
    "    # 进行预测\n",
    "    forecast_start = '2024-08-01'  # 替换成你希望开始预测的日期\n",
    "    forecast_end = '2024-08-31'    # 替换成你希望结束预测的日期\n",
    "    forecast = results.get_prediction(start=forecast_start, end=forecast_end, exog=exog.loc[forecast_start:forecast_end])\n",
    "\n",
    "    # 提取预测结果\n",
    "    forecast_mean = forecast.predicted_mean\n",
    "\n",
    "    # 可视化预测结果等\n",
    "    # 这里可以添加你的可视化代码或者其他后续操作\n",
    "\n",
    "    print(f\"Forecast results from {forecast_start} to {forecast_end}:\")\n",
    "    print(forecast_mean)\n"
   ]
  }
 ],
 "metadata": {
  "kernelspec": {
   "display_name": "NJTS2023",
   "language": "python",
   "name": "python3"
  },
  "language_info": {
   "codemirror_mode": {
    "name": "ipython",
    "version": 3
   },
   "file_extension": ".py",
   "mimetype": "text/x-python",
   "name": "python",
   "nbconvert_exporter": "python",
   "pygments_lexer": "ipython3",
   "version": "3.12.4"
  },
  "orig_nbformat": 4
 },
 "nbformat": 4,
 "nbformat_minor": 2
}
